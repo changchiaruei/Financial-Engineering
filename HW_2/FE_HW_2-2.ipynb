{
 "cells": [
  {
   "cell_type": "markdown",
   "metadata": {},
   "source": [
    "輸入套件"
   ]
  },
  {
   "cell_type": "code",
   "execution_count": 1,
   "metadata": {},
   "outputs": [],
   "source": [
    "import pandas as pd\n",
    "import scipy.optimize as optimize\n",
    "from IPython.display import display"
   ]
  },
  {
   "cell_type": "markdown",
   "metadata": {},
   "source": [
    "輸入五個變數（現值，面額，年數，Bond Coupon Rate，每年計息幾次）"
   ]
  },
  {
   "cell_type": "code",
   "execution_count": null,
   "metadata": {},
   "outputs": [],
   "source": [
    "PVV=int(input('現值'))\n",
    "par=int(input('面額'))\n",
    "yy=int(input('年數'))\n",
    "tt=float(input('Bond Coupon Rate(%)'))\n",
    "fre=int(input('每年計息幾次'))"
   ]
  },
  {
   "cell_type": "markdown",
   "metadata": {},
   "source": [
    "建立list，使用逼近法，遞迴算出年數為1-100年的YTM(但只顯示使用者輸入的年數）"
   ]
  },
  {
   "cell_type": "code",
   "execution_count": null,
   "metadata": {},
   "outputs": [],
   "source": [
    "tr = [] \n",
    "yr = [] \n",
    "for i in range(1,100):\n",
    "  ttm =i\n",
    "  price = PVV\n",
    "                                \n",
    "  def YTM_1(PV, PARVA, ttm, coup, freq, guess=0.01):\n",
    "    freq = float(freq)\n",
    "    coupon = coup/100.*PARVA/freq\n",
    "    ytm_func = lambda y: coupon*(1-(1+(y/freq))**(-freq*ttm))/(y/freq)  + PARVA/(1+y/freq)**(freq*ttm) - PV\n",
    "                  \n",
    "    return optimize.newton(ytm_func, guess)\n",
    "          \n",
    "  if __name__ == \"__main__\":\n",
    "    ytm = YTM_1(PVV, par, i, tt, fre)\n",
    "    YTM_F=round(ytm,6)\n",
    "    tr.append(ttm)\n",
    "    yr.append(YTM_F)"
   ]
  },
  {
   "cell_type": "markdown",
   "metadata": {},
   "source": [
    "將YTM與每年計息幾次調整正確，並且顯示。"
   ]
  },
  {
   "cell_type": "code",
   "execution_count": null,
   "metadata": {
    "scrolled": true
   },
   "outputs": [],
   "source": [
    "YTM_FF=yr[yy-1]/fre\n",
    "YTM_FFF = \"YTM= %f\" %(YTM_FF)\n",
    "print (YTM_FFF)"
   ]
  },
  {
   "cell_type": "markdown",
   "metadata": {},
   "source": [
    "如果現值大於面額，停止計算\n",
    "如果現值小於面額，繼續計算Spot rates 和Forward Rates"
   ]
  },
  {
   "cell_type": "code",
   "execution_count": null,
   "metadata": {},
   "outputs": [],
   "source": [
    "if PVV>par:\n",
    "  print('現值比面額大，無法計算Spot rates 和Forward Rates')\n",
    "else:              \n",
    "      s = [] \n",
    "      for w in range(0, 6): \n",
    "          value = round((price/par)**(-1/(w+1)) - 1,6)\n",
    "          s.append(value)      "
   ]
  },
  {
   "cell_type": "markdown",
   "metadata": {},
   "source": [
    "建立list，並且將表著中重複的部分填0"
   ]
  },
  {
   "cell_type": "code",
   "execution_count": null,
   "metadata": {},
   "outputs": [],
   "source": [
    "      F0 = []  \n",
    "      F1 = []\n",
    "      F2 = []\n",
    "      F3 = []\n",
    "      F4 = []\n",
    "      F5 = []\n",
    "       \n",
    "      for i in range(0, 6):\n",
    "          for j in range(0, 6):\n",
    "              if i==0:\n",
    "                if j-i<=0:\n",
    "                  f=0\n",
    "                  F0.append(f)\n",
    "                else: \n",
    "                  f=round(((1+s[j])**j/(1+s[i])**i)**(1/(j-i))-1,6)\n",
    "                  F0.append(f)\n",
    "              if i==1:\n",
    "                if j-i<=0:\n",
    "                  f=0\n",
    "                  F1.append(f)\n",
    "                else: \n",
    "                  f=round(((1+s[j])**j/(1+s[i])**i)**(1/(j-i))-1,6)\n",
    "                  F1.append(f)\n",
    "              if i==2:\n",
    "                if j-i<=0:\n",
    "                  f=0\n",
    "                  F2.append(f)\n",
    "                else: \n",
    "                  f=round(((1+s[j])**j/(1+s[i])**i)**(1/(j-i))-1,6)\n",
    "                  F2.append(f)\n",
    "              if i==3:\n",
    "                if j-i<=0:\n",
    "                  f=0\n",
    "                  F3.append(f)\n",
    "                else: \n",
    "                  f=round(((1+s[j])**j/(1+s[i])**i)**(1/(j-i))-1,6)\n",
    "                  F3.append(f)\n",
    "              if i==4:\n",
    "                if j-i<=0:\n",
    "                  f=0\n",
    "                  F4.append(f)\n",
    "                else: \n",
    "                  f=round(((1+s[j])**j/(1+s[i])**i)**(1/(j-i))-1,6)\n",
    "                  F4.append(f)\n",
    "              if i==5:\n",
    "                if j-i<=0:\n",
    "                  f=0\n",
    "                  F5.append(f)\n",
    "                else: \n",
    "                  f=round(((1+s[j])**j/(1+s[i])**i)**(1/(j-i))-1,6)\n",
    "                  F5.append(f)  "
   ]
  },
  {
   "cell_type": "markdown",
   "metadata": {},
   "source": [
    "建立表格，顯示Spot rates 和Forward Rates"
   ]
  },
  {
   "cell_type": "code",
   "execution_count": null,
   "metadata": {
    "scrolled": true
   },
   "outputs": [],
   "source": [
    "      row=['0','1','2','3','4','5']\n",
    "      col=['0','1','2','3','4','5']\n",
    "      col_1=['1年','2年','3年','4年','5年','6年']\n",
    "      S=['Spot Rates']\n",
    "      SI=s\n",
    "      FI=[F0,F1,F2,F3,F4,F5]\n",
    "      df= pd.DataFrame(SI, index = col_1 , columns = S)\n",
    "      display(df)\n",
    "      print('Forward Rates') \n",
    "      df2 = pd.DataFrame(FI, index = row, columns = col)\n",
    "      display(df2)\n",
    "    "
   ]
  },
  {
   "cell_type": "markdown",
   "metadata": {},
   "source": []
  },
  {
   "cell_type": "markdown",
   "metadata": {},
   "source": [
    " "
   ]
  }
 ],
 "metadata": {
  "kernelspec": {
   "display_name": "Python 3",
   "language": "python",
   "name": "python3"
  },
  "language_info": {
   "codemirror_mode": {
    "name": "ipython",
    "version": 3
   },
   "file_extension": ".py",
   "mimetype": "text/x-python",
   "name": "python",
   "nbconvert_exporter": "python",
   "pygments_lexer": "ipython3",
   "version": "3.7.3"
  }
 },
 "nbformat": 4,
 "nbformat_minor": 2
}
