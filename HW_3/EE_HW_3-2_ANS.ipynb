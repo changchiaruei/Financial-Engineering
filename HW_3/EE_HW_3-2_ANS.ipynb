{
 "cells": [
  {
   "cell_type": "markdown",
   "metadata": {},
   "source": [
    "插入套件"
   ]
  },
  {
   "cell_type": "code",
   "execution_count": 2,
   "metadata": {},
   "outputs": [],
   "source": [
    "import copy\n",
    "import math\n",
    "import pandas as pd"
   ]
  },
  {
   "cell_type": "markdown",
   "metadata": {},
   "source": [
    "輸入六個變數（StockPrice，StrikePrice，continuously compounded riskless rate，periods，漲價比值，跌價比值）"
   ]
  },
  {
   "cell_type": "code",
   "execution_count": 3,
   "metadata": {},
   "outputs": [
    {
     "name": "stdout",
     "output_type": "stream",
     "text": [
      "Stock Price ?160\n",
      "Strike Price ?150\n",
      "continuously compounded riskless rate(%) ?18.232\n",
      "periods ?3\n",
      "漲價比值1.5\n",
      "跌價比值0.5\n"
     ]
    }
   ],
   "source": [
    "StockPrice=int(input('Stock Price ?'))\n",
    "StrikePrice=int(input('Strike Price ?'))\n",
    "RIR=float(input('continuously compounded riskless rate(%) ?'))*0.01\n",
    "TP=int(input('periods ?'))\n",
    "U=float(input('漲價比值'))\n",
    "D=float(input('跌價比值'))"
   ]
  },
  {
   "cell_type": "markdown",
   "metadata": {},
   "source": [
    "將continuously compounded riskless rate轉換，計算出機率，建立符合樣式的list，計算出Binonial process for the stock price"
   ]
  },
  {
   "cell_type": "code",
   "execution_count": 4,
   "metadata": {},
   "outputs": [],
   "source": [
    "R=round(math.exp(RIR),5)\n",
    "p=(R-D)/(U-D)\n",
    "CALL=[]\n",
    "for j in range(0,TP+1):\n",
    "  CALL_s=[0]*(j+1)\n",
    "  CALL.append(CALL_s)  \n",
    "  for i in range(0,j+1):\n",
    "    CALL[j][i]=StockPrice*U**(j-i)*D**(i)"
   ]
  },
  {
   "cell_type": "markdown",
   "metadata": {},
   "source": [
    "輸出Binonial process for the stock price表格"
   ]
  },
  {
   "cell_type": "code",
   "execution_count": 5,
   "metadata": {},
   "outputs": [
    {
     "name": "stdout",
     "output_type": "stream",
     "text": [
      "Binonial process for the stock price:\n"
     ]
    },
    {
     "data": {
      "text/html": [
       "<div>\n",
       "<style scoped>\n",
       "    .dataframe tbody tr th:only-of-type {\n",
       "        vertical-align: middle;\n",
       "    }\n",
       "\n",
       "    .dataframe tbody tr th {\n",
       "        vertical-align: top;\n",
       "    }\n",
       "\n",
       "    .dataframe thead th {\n",
       "        text-align: right;\n",
       "    }\n",
       "</style>\n",
       "<table border=\"1\" class=\"dataframe\">\n",
       "  <thead>\n",
       "    <tr style=\"text-align: right;\">\n",
       "      <th></th>\n",
       "      <th>0</th>\n",
       "      <th>1</th>\n",
       "      <th>2</th>\n",
       "      <th>3</th>\n",
       "    </tr>\n",
       "  </thead>\n",
       "  <tbody>\n",
       "    <tr>\n",
       "      <th>第0期</th>\n",
       "      <td>160</td>\n",
       "      <td>-</td>\n",
       "      <td>-</td>\n",
       "      <td>-</td>\n",
       "    </tr>\n",
       "    <tr>\n",
       "      <th>第1期</th>\n",
       "      <td>240</td>\n",
       "      <td>80</td>\n",
       "      <td>-</td>\n",
       "      <td>-</td>\n",
       "    </tr>\n",
       "    <tr>\n",
       "      <th>第2期</th>\n",
       "      <td>360</td>\n",
       "      <td>120</td>\n",
       "      <td>40</td>\n",
       "      <td>-</td>\n",
       "    </tr>\n",
       "    <tr>\n",
       "      <th>第3期</th>\n",
       "      <td>540</td>\n",
       "      <td>180</td>\n",
       "      <td>60</td>\n",
       "      <td>20</td>\n",
       "    </tr>\n",
       "  </tbody>\n",
       "</table>\n",
       "</div>"
      ],
      "text/plain": [
       "       0    1   2   3\n",
       "第0期  160    -   -   -\n",
       "第1期  240   80   -   -\n",
       "第2期  360  120  40   -\n",
       "第3期  540  180  60  20"
      ]
     },
     "execution_count": 5,
     "metadata": {},
     "output_type": "execute_result"
    }
   ],
   "source": [
    "roww=[0]*(TP+1)\n",
    "for x in range(0,TP+1):\n",
    "  roww[x] = str('第'+str(x)+'期')\n",
    "\n",
    "print('Binonial process for the stock price:')\n",
    "df = pd.DataFrame(CALL,index=roww)\n",
    "df.where(df.notnull(),'-')"
   ]
  },
  {
   "cell_type": "markdown",
   "metadata": {},
   "source": [
    "複製剛剛的list，將答案減去StrikePrice，若小於0則設為零"
   ]
  },
  {
   "cell_type": "code",
   "execution_count": 6,
   "metadata": {},
   "outputs": [],
   "source": [
    "PV_s=CALL[-1]\n",
    "PV_C= copy.deepcopy(PV_s)\n",
    "PV_P= copy.deepcopy(PV_s)\n",
    "for i in range(0,len(PV_C)):\n",
    "  PV_C[i]=max(PV_C[i]-StrikePrice,0)"
   ]
  },
  {
   "cell_type": "markdown",
   "metadata": {},
   "source": [
    "建立計算中使用的list和符合樣式的list，計算出Binonial process for the call price，並且顯示call value和表格"
   ]
  },
  {
   "cell_type": "code",
   "execution_count": 7,
   "metadata": {},
   "outputs": [
    {
     "name": "stdout",
     "output_type": "stream",
     "text": [
      "CALL VALUE:\n",
      "85.069\n",
      "Binonial process for the call price:\n"
     ]
    },
    {
     "data": {
      "text/html": [
       "<div>\n",
       "<style scoped>\n",
       "    .dataframe tbody tr th:only-of-type {\n",
       "        vertical-align: middle;\n",
       "    }\n",
       "\n",
       "    .dataframe tbody tr th {\n",
       "        vertical-align: top;\n",
       "    }\n",
       "\n",
       "    .dataframe thead th {\n",
       "        text-align: right;\n",
       "    }\n",
       "</style>\n",
       "<table border=\"1\" class=\"dataframe\">\n",
       "  <thead>\n",
       "    <tr style=\"text-align: right;\">\n",
       "      <th></th>\n",
       "      <th>0</th>\n",
       "      <th>1</th>\n",
       "      <th>2</th>\n",
       "      <th>3</th>\n",
       "    </tr>\n",
       "  </thead>\n",
       "  <tbody>\n",
       "    <tr>\n",
       "      <th>第0期</th>\n",
       "      <td>85.0694</td>\n",
       "      <td>-</td>\n",
       "      <td>-</td>\n",
       "      <td>-</td>\n",
       "    </tr>\n",
       "    <tr>\n",
       "      <th>第1期</th>\n",
       "      <td>141.458</td>\n",
       "      <td>10.2083</td>\n",
       "      <td>-</td>\n",
       "      <td>-</td>\n",
       "    </tr>\n",
       "    <tr>\n",
       "      <th>第2期</th>\n",
       "      <td>235</td>\n",
       "      <td>17.5</td>\n",
       "      <td>0</td>\n",
       "      <td>-</td>\n",
       "    </tr>\n",
       "    <tr>\n",
       "      <th>第3期</th>\n",
       "      <td>390</td>\n",
       "      <td>30</td>\n",
       "      <td>0</td>\n",
       "      <td>0</td>\n",
       "    </tr>\n",
       "  </tbody>\n",
       "</table>\n",
       "</div>"
      ],
      "text/plain": [
       "           0        1  2  3\n",
       "第0期  85.0694        -  -  -\n",
       "第1期  141.458  10.2083  -  -\n",
       "第2期      235     17.5  0  -\n",
       "第3期      390       30  0  0"
      ]
     },
     "execution_count": 7,
     "metadata": {},
     "output_type": "execute_result"
    }
   ],
   "source": [
    "PV_l=[]\n",
    "PV=[]\n",
    "for i in range(1,TP+1):\n",
    "  PV_l=[0]*i\n",
    "  PV.append(PV_l)\n",
    "PV.insert(len(PV_C), PV_C)\n",
    "for i in range(1,TP+1):\n",
    "  for j in range(0,TP-i+1):\n",
    "    PV[TP-i][j]=(p*PV[TP-i+1][j]+(1-p)*PV[TP-i+1][j+1])/R\n",
    "print('CALL VALUE:')     \n",
    "CP=round(PV[0][0] ,3) \n",
    "print(CP) \n",
    "print('Binonial process for the call price:') \n",
    "df1 = pd.DataFrame(PV,index=roww)\n",
    "df1.where(df1.notnull(),'-')"
   ]
  },
  {
   "cell_type": "markdown",
   "metadata": {},
   "source": [
    "建立計算中使用的list和符合樣式的list，計算出Binonial process for the put price，並且顯示put value和表格"
   ]
  },
  {
   "cell_type": "code",
   "execution_count": 8,
   "metadata": {},
   "outputs": [
    {
     "name": "stdout",
     "output_type": "stream",
     "text": [
      "PUT VALUE:\n",
      "11.875\n",
      "Binonial process for the put price:\n"
     ]
    },
    {
     "data": {
      "text/html": [
       "<div>\n",
       "<style scoped>\n",
       "    .dataframe tbody tr th:only-of-type {\n",
       "        vertical-align: middle;\n",
       "    }\n",
       "\n",
       "    .dataframe tbody tr th {\n",
       "        vertical-align: top;\n",
       "    }\n",
       "\n",
       "    .dataframe thead th {\n",
       "        text-align: right;\n",
       "    }\n",
       "</style>\n",
       "<table border=\"1\" class=\"dataframe\">\n",
       "  <thead>\n",
       "    <tr style=\"text-align: right;\">\n",
       "      <th></th>\n",
       "      <th>0</th>\n",
       "      <th>1</th>\n",
       "      <th>2</th>\n",
       "      <th>3</th>\n",
       "    </tr>\n",
       "  </thead>\n",
       "  <tbody>\n",
       "    <tr>\n",
       "      <th>第0期</th>\n",
       "      <td>11.875</td>\n",
       "      <td>-</td>\n",
       "      <td>-</td>\n",
       "      <td>-</td>\n",
       "    </tr>\n",
       "    <tr>\n",
       "      <th>第1期</th>\n",
       "      <td>5.625</td>\n",
       "      <td>34.375</td>\n",
       "      <td>-</td>\n",
       "      <td>-</td>\n",
       "    </tr>\n",
       "    <tr>\n",
       "      <th>第2期</th>\n",
       "      <td>0</td>\n",
       "      <td>22.5</td>\n",
       "      <td>85</td>\n",
       "      <td>-</td>\n",
       "    </tr>\n",
       "    <tr>\n",
       "      <th>第3期</th>\n",
       "      <td>0</td>\n",
       "      <td>0</td>\n",
       "      <td>90</td>\n",
       "      <td>130</td>\n",
       "    </tr>\n",
       "  </tbody>\n",
       "</table>\n",
       "</div>"
      ],
      "text/plain": [
       "          0       1   2    3\n",
       "第0期  11.875       -   -    -\n",
       "第1期   5.625  34.375   -    -\n",
       "第2期       0    22.5  85    -\n",
       "第3期       0       0  90  130"
      ]
     },
     "execution_count": 8,
     "metadata": {},
     "output_type": "execute_result"
    }
   ],
   "source": [
    "PVP=[]\n",
    "for i in range(0,len(PV_P)):\n",
    "  PV_P[i]=max(StrikePrice-PV_P[i],0)\n",
    "for i in range(1,TP+1):\n",
    "  PV_l=[0]*i\n",
    "  PVP.append(PV_l)\n",
    "PVP.insert(len(PV_P), PV_P)\n",
    "for i in range(1,TP+1):\n",
    "  for j in range(0,TP-i+1):\n",
    "    PVP[TP-i][j]=(p*PVP[TP-i+1][j]+(1-p)*PVP[TP-i+1][j+1])/R\n",
    "\n",
    "print('PUT VALUE:')     \n",
    "PP=round(PVP[0][0] ,3) \n",
    "print(PP) \n",
    "\n",
    "print('Binonial process for the put price:') \n",
    "df2 = pd.DataFrame(PVP,index=roww)\n",
    "df2.where(df2.notnull(),'-')"
   ]
  },
  {
   "cell_type": "code",
   "execution_count": null,
   "metadata": {},
   "outputs": [],
   "source": []
  }
 ],
 "metadata": {
  "kernelspec": {
   "display_name": "Python 3",
   "language": "python",
   "name": "python3"
  },
  "language_info": {
   "codemirror_mode": {
    "name": "ipython",
    "version": 3
   },
   "file_extension": ".py",
   "mimetype": "text/x-python",
   "name": "python",
   "nbconvert_exporter": "python",
   "pygments_lexer": "ipython3",
   "version": "3.7.3"
  }
 },
 "nbformat": 4,
 "nbformat_minor": 2
}
