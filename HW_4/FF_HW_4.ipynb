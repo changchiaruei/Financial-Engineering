{
 "cells": [
  {
   "cell_type": "markdown",
   "metadata": {},
   "source": [
    "插入套件，輸入八個變數（股價，變動率，股利，一年發放股利幾次，幾月發放，報酬率，履約價，第幾個月的價格）"
   ]
  },
  {
   "cell_type": "code",
   "execution_count": 31,
   "metadata": {},
   "outputs": [
    {
     "name": "stdout",
     "output_type": "stream",
     "text": [
      "股票價格？75\n",
      "變動幅度?0.35\n",
      "股利金額（一次）？1\n",
      "一年發放幾次股利？1\n",
      "股利要在幾月發放?\n",
      "1\n",
      "報酬率(%)?6\n",
      "履約價?65\n",
      "想知道在哪一個月的價格？6\n"
     ]
    }
   ],
   "source": [
    "import math\n",
    "from scipy import stats\n",
    "\n",
    "s=[]\n",
    "\n",
    "S=float(input('股票價格？'))\n",
    "SD=float(input('變動幅度?'))\n",
    "Dividends=float(input('股利金額（一次）？'))\n",
    "periods=int(input('一年發放幾次股利？'))\n",
    "if periods==1:\n",
    "  print('股利要在幾月發放?') \n",
    "  st=int(input())\n",
    "  s.append(st)\n",
    "else:\n",
    "  for i in range (1,periods+1):\n",
    "    print('第 %d 次股利要在幾月發放?'%(i)) \n",
    "    st=int(input())\n",
    "    s.append(st)\n",
    "    \n",
    "r=float(input('報酬率(%)?'))*0.01\n",
    "exercise=float(input('履約價?'))\n",
    "Dtp=int(input('想知道在哪一個月的價格？'))"
   ]
  },
  {
   "cell_type": "markdown",
   "metadata": {},
   "source": [
    "計算出一年付股利現值的總額"
   ]
  },
  {
   "cell_type": "code",
   "execution_count": 32,
   "metadata": {},
   "outputs": [],
   "source": [
    "D=0\n",
    "for i in range (0,periods):   \n",
    "  D=D+Dividends*math.exp(-r*(s[i]/12))"
   ]
  },
  {
   "cell_type": "markdown",
   "metadata": {},
   "source": [
    "計算股價的估計值(S-D)"
   ]
  },
  {
   "cell_type": "code",
   "execution_count": 33,
   "metadata": {},
   "outputs": [],
   "source": [
    "S_hat=S-D"
   ]
  },
  {
   "cell_type": "markdown",
   "metadata": {},
   "source": [
    "計算Black-Scholes中的d1與d2，四捨五入到小數下第三位"
   ]
  },
  {
   "cell_type": "code",
   "execution_count": 34,
   "metadata": {},
   "outputs": [],
   "source": [
    "d1=(math.log(S_hat/exercise)+(r+0.5*SD**2)*(Dtp/12))/\\\n",
    "(SD*(Dtp/12)**0.5)\n",
    "d2=d1-SD*(Dtp/12)**0.5"
   ]
  },
  {
   "cell_type": "markdown",
   "metadata": {},
   "source": [
    "計算常態分配的CDF，計算出Put Price與Call Price，四捨五入到小數下第五位"
   ]
  },
  {
   "cell_type": "code",
   "execution_count": 35,
   "metadata": {},
   "outputs": [],
   "source": [
    "Npd2=stats.norm.cdf(-d2,0,1)\n",
    "Npd1=stats.norm.cdf(-d1,0,1)\n",
    "Put=round(exercise*math.exp(-r*(Dtp/12))*Npd2-\\\n",
    "S_hat*Npd1,4)\n",
    "Ncd1=stats.norm.cdf(d1,0,1)\n",
    "Ncd2=stats.norm.cdf(d2,0,1)\n",
    "Call=round(S_hat*Ncd1-exercise*math.exp(-r*(Dtp/12))*Ncd2,4)"
   ]
  },
  {
   "cell_type": "markdown",
   "metadata": {},
   "source": [
    "顯示Put Price與Call Price\n",
    "四捨五入後會造成一些誤差"
   ]
  },
  {
   "cell_type": "code",
   "execution_count": 36,
   "metadata": {},
   "outputs": [
    {
     "name": "stdout",
     "output_type": "stream",
     "text": [
      "Put price=\n",
      "2.6359\n",
      "Call price=\n",
      "13.5619\n"
     ]
    }
   ],
   "source": [
    "print('Put price=')\n",
    "print(Put)\n",
    "print('Call price=')\n",
    "print(Call)"
   ]
  },
  {
   "cell_type": "markdown",
   "metadata": {},
   "source": [
    " "
   ]
  }
 ],
 "metadata": {
  "kernelspec": {
   "display_name": "Python 3",
   "language": "python",
   "name": "python3"
  },
  "language_info": {
   "codemirror_mode": {
    "name": "ipython",
    "version": 3
   },
   "file_extension": ".py",
   "mimetype": "text/x-python",
   "name": "python",
   "nbconvert_exporter": "python",
   "pygments_lexer": "ipython3",
   "version": "3.7.3"
  }
 },
 "nbformat": 4,
 "nbformat_minor": 2
}
